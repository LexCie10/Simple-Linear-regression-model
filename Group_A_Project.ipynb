{
  "cells": [
    {
      "cell_type": "markdown",
      "metadata": {
        "id": "view-in-github",
        "colab_type": "text"
      },
      "source": [
        "<a href=\"https://colab.research.google.com/github/LexCie10/Simple-Linear-regression-model/blob/main/Group_A_Project.ipynb\" target=\"_parent\"><img src=\"https://colab.research.google.com/assets/colab-badge.svg\" alt=\"Open In Colab\"/></a>"
      ]
    },
    {
      "cell_type": "markdown",
      "id": "acddc975-747e-417e-98ee-6fe7e87ef2e2",
      "metadata": {
        "id": "acddc975-747e-417e-98ee-6fe7e87ef2e2"
      },
      "source": [
        "# Data Science Project Workflow"
      ]
    },
    {
      "cell_type": "markdown",
      "id": "fc61d5eb-823b-4906-8a78-3fc78739d156",
      "metadata": {
        "jp-MarkdownHeadingCollapsed": true,
        "id": "fc61d5eb-823b-4906-8a78-3fc78739d156"
      },
      "source": [
        "##**Problem statement**"
      ]
    },
    {
      "cell_type": "code",
      "execution_count": 2,
      "id": "65925808-9beb-418a-91c9-911782539168",
      "metadata": {
        "id": "65925808-9beb-418a-91c9-911782539168"
      },
      "outputs": [],
      "source": [
        "# Develop a model\n",
        "# To predict Heart Disease Status\n",
        "\n"
      ]
    },
    {
      "cell_type": "markdown",
      "id": "00825124-a0cb-4e65-975e-d91425bb90c2",
      "metadata": {
        "jp-MarkdownHeadingCollapsed": true,
        "id": "00825124-a0cb-4e65-975e-d91425bb90c2"
      },
      "source": [
        "##**Source for Relevant Data**"
      ]
    },
    {
      "cell_type": "markdown",
      "source": [
        "Dataset was gotten online\n",
        "\n",
        "https://www.kaggle.com/datasets/oktayrdeki/heart-disease/data"
      ],
      "metadata": {
        "id": "vWwfCU5Tm_YP"
      },
      "id": "vWwfCU5Tm_YP"
    },
    {
      "cell_type": "markdown",
      "id": "efbbcd71-c2d2-442f-b0d9-201d8d096bac",
      "metadata": {
        "id": "efbbcd71-c2d2-442f-b0d9-201d8d096bac"
      },
      "source": [
        "##**Import dataset**"
      ]
    },
    {
      "cell_type": "code",
      "source": [
        "from google.colab import drive\n",
        "drive.mount('/content/drive')"
      ],
      "metadata": {
        "colab": {
          "base_uri": "https://localhost:8080/"
        },
        "id": "nUxODWO_nfjc",
        "outputId": "0d03c903-3944-4658-d2e5-26f289a480da"
      },
      "id": "nUxODWO_nfjc",
      "execution_count": 3,
      "outputs": [
        {
          "output_type": "stream",
          "name": "stdout",
          "text": [
            "Mounted at /content/drive\n"
          ]
        }
      ]
    },
    {
      "cell_type": "code",
      "source": [
        "import pandas as pd\n",
        "import numpy as np\n",
        "import matplotlib.pyplot as plt\n",
        "import seaborn as sns\n",
        "from sklearn.model_selection import train_test_split\n",
        "from sklearn.linear_model import LinearRegression\n",
        "from sklearn.linear_model import LogisticRegression\n",
        "from sklearn.metrics import accuracy_score\n",
        "\n",
        "import warnings\n",
        "warnings.filterwarnings(\"ignore\")\n",
        "\n",
        "\n",
        "df = pd.read_csv(\"/content/drive/MyDrive/Pluralcode Data Science/heart_disease.csv\")\n"
      ],
      "metadata": {
        "id": "7at3Rli3_X8N",
        "outputId": "2512b5e5-96a0-4dc9-d61f-b0d6d3546267",
        "colab": {
          "base_uri": "https://localhost:8080/",
          "height": 321
        }
      },
      "id": "7at3Rli3_X8N",
      "execution_count": 5,
      "outputs": [
        {
          "output_type": "error",
          "ename": "FileNotFoundError",
          "evalue": "[Errno 2] No such file or directory: '/content/drive/MyDrive/Pluralcode Data Science/heart_disease.csv'",
          "traceback": [
            "\u001b[0;31m---------------------------------------------------------------------------\u001b[0m",
            "\u001b[0;31mFileNotFoundError\u001b[0m                         Traceback (most recent call last)",
            "\u001b[0;32m<ipython-input-5-ce4d8d1d95d8>\u001b[0m in \u001b[0;36m<cell line: 0>\u001b[0;34m()\u001b[0m\n\u001b[1;32m     12\u001b[0m \u001b[0;34m\u001b[0m\u001b[0m\n\u001b[1;32m     13\u001b[0m \u001b[0;34m\u001b[0m\u001b[0m\n\u001b[0;32m---> 14\u001b[0;31m \u001b[0mdf\u001b[0m \u001b[0;34m=\u001b[0m \u001b[0mpd\u001b[0m\u001b[0;34m.\u001b[0m\u001b[0mread_csv\u001b[0m\u001b[0;34m(\u001b[0m\u001b[0;34m\"/content/drive/MyDrive/Pluralcode Data Science/heart_disease.csv\"\u001b[0m\u001b[0;34m)\u001b[0m\u001b[0;34m\u001b[0m\u001b[0;34m\u001b[0m\u001b[0m\n\u001b[0m",
            "\u001b[0;32m/usr/local/lib/python3.11/dist-packages/pandas/io/parsers/readers.py\u001b[0m in \u001b[0;36mread_csv\u001b[0;34m(filepath_or_buffer, sep, delimiter, header, names, index_col, usecols, dtype, engine, converters, true_values, false_values, skipinitialspace, skiprows, skipfooter, nrows, na_values, keep_default_na, na_filter, verbose, skip_blank_lines, parse_dates, infer_datetime_format, keep_date_col, date_parser, date_format, dayfirst, cache_dates, iterator, chunksize, compression, thousands, decimal, lineterminator, quotechar, quoting, doublequote, escapechar, comment, encoding, encoding_errors, dialect, on_bad_lines, delim_whitespace, low_memory, memory_map, float_precision, storage_options, dtype_backend)\u001b[0m\n\u001b[1;32m   1024\u001b[0m     \u001b[0mkwds\u001b[0m\u001b[0;34m.\u001b[0m\u001b[0mupdate\u001b[0m\u001b[0;34m(\u001b[0m\u001b[0mkwds_defaults\u001b[0m\u001b[0;34m)\u001b[0m\u001b[0;34m\u001b[0m\u001b[0;34m\u001b[0m\u001b[0m\n\u001b[1;32m   1025\u001b[0m \u001b[0;34m\u001b[0m\u001b[0m\n\u001b[0;32m-> 1026\u001b[0;31m     \u001b[0;32mreturn\u001b[0m \u001b[0m_read\u001b[0m\u001b[0;34m(\u001b[0m\u001b[0mfilepath_or_buffer\u001b[0m\u001b[0;34m,\u001b[0m \u001b[0mkwds\u001b[0m\u001b[0;34m)\u001b[0m\u001b[0;34m\u001b[0m\u001b[0;34m\u001b[0m\u001b[0m\n\u001b[0m\u001b[1;32m   1027\u001b[0m \u001b[0;34m\u001b[0m\u001b[0m\n\u001b[1;32m   1028\u001b[0m \u001b[0;34m\u001b[0m\u001b[0m\n",
            "\u001b[0;32m/usr/local/lib/python3.11/dist-packages/pandas/io/parsers/readers.py\u001b[0m in \u001b[0;36m_read\u001b[0;34m(filepath_or_buffer, kwds)\u001b[0m\n\u001b[1;32m    618\u001b[0m \u001b[0;34m\u001b[0m\u001b[0m\n\u001b[1;32m    619\u001b[0m     \u001b[0;31m# Create the parser.\u001b[0m\u001b[0;34m\u001b[0m\u001b[0;34m\u001b[0m\u001b[0m\n\u001b[0;32m--> 620\u001b[0;31m     \u001b[0mparser\u001b[0m \u001b[0;34m=\u001b[0m \u001b[0mTextFileReader\u001b[0m\u001b[0;34m(\u001b[0m\u001b[0mfilepath_or_buffer\u001b[0m\u001b[0;34m,\u001b[0m \u001b[0;34m**\u001b[0m\u001b[0mkwds\u001b[0m\u001b[0;34m)\u001b[0m\u001b[0;34m\u001b[0m\u001b[0;34m\u001b[0m\u001b[0m\n\u001b[0m\u001b[1;32m    621\u001b[0m \u001b[0;34m\u001b[0m\u001b[0m\n\u001b[1;32m    622\u001b[0m     \u001b[0;32mif\u001b[0m \u001b[0mchunksize\u001b[0m \u001b[0;32mor\u001b[0m \u001b[0miterator\u001b[0m\u001b[0;34m:\u001b[0m\u001b[0;34m\u001b[0m\u001b[0;34m\u001b[0m\u001b[0m\n",
            "\u001b[0;32m/usr/local/lib/python3.11/dist-packages/pandas/io/parsers/readers.py\u001b[0m in \u001b[0;36m__init__\u001b[0;34m(self, f, engine, **kwds)\u001b[0m\n\u001b[1;32m   1618\u001b[0m \u001b[0;34m\u001b[0m\u001b[0m\n\u001b[1;32m   1619\u001b[0m         \u001b[0mself\u001b[0m\u001b[0;34m.\u001b[0m\u001b[0mhandles\u001b[0m\u001b[0;34m:\u001b[0m \u001b[0mIOHandles\u001b[0m \u001b[0;34m|\u001b[0m \u001b[0;32mNone\u001b[0m \u001b[0;34m=\u001b[0m \u001b[0;32mNone\u001b[0m\u001b[0;34m\u001b[0m\u001b[0;34m\u001b[0m\u001b[0m\n\u001b[0;32m-> 1620\u001b[0;31m         \u001b[0mself\u001b[0m\u001b[0;34m.\u001b[0m\u001b[0m_engine\u001b[0m \u001b[0;34m=\u001b[0m \u001b[0mself\u001b[0m\u001b[0;34m.\u001b[0m\u001b[0m_make_engine\u001b[0m\u001b[0;34m(\u001b[0m\u001b[0mf\u001b[0m\u001b[0;34m,\u001b[0m \u001b[0mself\u001b[0m\u001b[0;34m.\u001b[0m\u001b[0mengine\u001b[0m\u001b[0;34m)\u001b[0m\u001b[0;34m\u001b[0m\u001b[0;34m\u001b[0m\u001b[0m\n\u001b[0m\u001b[1;32m   1621\u001b[0m \u001b[0;34m\u001b[0m\u001b[0m\n\u001b[1;32m   1622\u001b[0m     \u001b[0;32mdef\u001b[0m \u001b[0mclose\u001b[0m\u001b[0;34m(\u001b[0m\u001b[0mself\u001b[0m\u001b[0;34m)\u001b[0m \u001b[0;34m->\u001b[0m \u001b[0;32mNone\u001b[0m\u001b[0;34m:\u001b[0m\u001b[0;34m\u001b[0m\u001b[0;34m\u001b[0m\u001b[0m\n",
            "\u001b[0;32m/usr/local/lib/python3.11/dist-packages/pandas/io/parsers/readers.py\u001b[0m in \u001b[0;36m_make_engine\u001b[0;34m(self, f, engine)\u001b[0m\n\u001b[1;32m   1878\u001b[0m                 \u001b[0;32mif\u001b[0m \u001b[0;34m\"b\"\u001b[0m \u001b[0;32mnot\u001b[0m \u001b[0;32min\u001b[0m \u001b[0mmode\u001b[0m\u001b[0;34m:\u001b[0m\u001b[0;34m\u001b[0m\u001b[0;34m\u001b[0m\u001b[0m\n\u001b[1;32m   1879\u001b[0m                     \u001b[0mmode\u001b[0m \u001b[0;34m+=\u001b[0m \u001b[0;34m\"b\"\u001b[0m\u001b[0;34m\u001b[0m\u001b[0;34m\u001b[0m\u001b[0m\n\u001b[0;32m-> 1880\u001b[0;31m             self.handles = get_handle(\n\u001b[0m\u001b[1;32m   1881\u001b[0m                 \u001b[0mf\u001b[0m\u001b[0;34m,\u001b[0m\u001b[0;34m\u001b[0m\u001b[0;34m\u001b[0m\u001b[0m\n\u001b[1;32m   1882\u001b[0m                 \u001b[0mmode\u001b[0m\u001b[0;34m,\u001b[0m\u001b[0;34m\u001b[0m\u001b[0;34m\u001b[0m\u001b[0m\n",
            "\u001b[0;32m/usr/local/lib/python3.11/dist-packages/pandas/io/common.py\u001b[0m in \u001b[0;36mget_handle\u001b[0;34m(path_or_buf, mode, encoding, compression, memory_map, is_text, errors, storage_options)\u001b[0m\n\u001b[1;32m    871\u001b[0m         \u001b[0;32mif\u001b[0m \u001b[0mioargs\u001b[0m\u001b[0;34m.\u001b[0m\u001b[0mencoding\u001b[0m \u001b[0;32mand\u001b[0m \u001b[0;34m\"b\"\u001b[0m \u001b[0;32mnot\u001b[0m \u001b[0;32min\u001b[0m \u001b[0mioargs\u001b[0m\u001b[0;34m.\u001b[0m\u001b[0mmode\u001b[0m\u001b[0;34m:\u001b[0m\u001b[0;34m\u001b[0m\u001b[0;34m\u001b[0m\u001b[0m\n\u001b[1;32m    872\u001b[0m             \u001b[0;31m# Encoding\u001b[0m\u001b[0;34m\u001b[0m\u001b[0;34m\u001b[0m\u001b[0m\n\u001b[0;32m--> 873\u001b[0;31m             handle = open(\n\u001b[0m\u001b[1;32m    874\u001b[0m                 \u001b[0mhandle\u001b[0m\u001b[0;34m,\u001b[0m\u001b[0;34m\u001b[0m\u001b[0;34m\u001b[0m\u001b[0m\n\u001b[1;32m    875\u001b[0m                 \u001b[0mioargs\u001b[0m\u001b[0;34m.\u001b[0m\u001b[0mmode\u001b[0m\u001b[0;34m,\u001b[0m\u001b[0;34m\u001b[0m\u001b[0;34m\u001b[0m\u001b[0m\n",
            "\u001b[0;31mFileNotFoundError\u001b[0m: [Errno 2] No such file or directory: '/content/drive/MyDrive/Pluralcode Data Science/heart_disease.csv'"
          ]
        }
      ]
    },
    {
      "cell_type": "markdown",
      "id": "c361493a-3edc-48f7-a64a-6f1dc472ab2a",
      "metadata": {
        "id": "c361493a-3edc-48f7-a64a-6f1dc472ab2a"
      },
      "source": [
        "##**Examine the Data**"
      ]
    },
    {
      "cell_type": "code",
      "source": [
        "df.info()\n",
        "df.describe()"
      ],
      "metadata": {
        "id": "Kjd8vsN1_cPp"
      },
      "id": "Kjd8vsN1_cPp",
      "execution_count": null,
      "outputs": []
    },
    {
      "cell_type": "code",
      "source": [
        "df.describe()"
      ],
      "metadata": {
        "id": "F9LNGKa_Gvv-"
      },
      "id": "F9LNGKa_Gvv-",
      "execution_count": null,
      "outputs": []
    },
    {
      "cell_type": "markdown",
      "id": "897c0e50-b27e-4203-8cbb-56ae9aec24a6",
      "metadata": {
        "id": "897c0e50-b27e-4203-8cbb-56ae9aec24a6"
      },
      "source": [
        "##**Remove Irregularities**"
      ]
    },
    {
      "cell_type": "code",
      "source": [
        "df.isnull().sum()"
      ],
      "metadata": {
        "id": "65A02t1h_hkC"
      },
      "id": "65A02t1h_hkC",
      "execution_count": null,
      "outputs": []
    },
    {
      "cell_type": "code",
      "source": [
        "df.info()\n",
        "df.fillna(method = \"ffill\", inplace = True)\n",
        "df.info()"
      ],
      "metadata": {
        "id": "NEAIQy2LrdEg"
      },
      "id": "NEAIQy2LrdEg",
      "execution_count": null,
      "outputs": []
    },
    {
      "cell_type": "code",
      "source": [
        "df.isnull().sum()"
      ],
      "metadata": {
        "id": "hi7pxNRwtXTB"
      },
      "id": "hi7pxNRwtXTB",
      "execution_count": null,
      "outputs": []
    },
    {
      "cell_type": "code",
      "source": [
        "df.info()"
      ],
      "metadata": {
        "id": "LvzeVajHtlmK"
      },
      "id": "LvzeVajHtlmK",
      "execution_count": null,
      "outputs": []
    },
    {
      "cell_type": "markdown",
      "id": "f2b7057d-8f79-4b24-88ed-3115290eb64d",
      "metadata": {
        "id": "f2b7057d-8f79-4b24-88ed-3115290eb64d"
      },
      "source": [
        "##**Exploratory Data Analysis**"
      ]
    },
    {
      "cell_type": "code",
      "source": [
        "# boxplot of BMI\n",
        "\n",
        "plt.boxplot(df[\"BMI\"])\n",
        "plt.title(\"Boxplot of BMI\")\n",
        "plt.ylabel(\"BMI\")\n",
        "plt.show()"
      ],
      "metadata": {
        "id": "E8I7up3u_lxt"
      },
      "id": "E8I7up3u_lxt",
      "execution_count": null,
      "outputs": []
    },
    {
      "cell_type": "code",
      "source": [],
      "metadata": {
        "id": "irHu-_jk6vw5"
      },
      "id": "irHu-_jk6vw5",
      "execution_count": null,
      "outputs": []
    },
    {
      "cell_type": "code",
      "source": [
        "# Plotting Correlation plot for Heart Disease Status and other columns\n",
        "df[\"Heart Disease Status\"] = df[\"Heart Disease Status\"].map({'Yes': 1, 'No': 0})"
      ],
      "metadata": {
        "id": "l0jM2anezaxq"
      },
      "id": "l0jM2anezaxq",
      "execution_count": null,
      "outputs": []
    },
    {
      "cell_type": "code",
      "source": [
        "# Plotting the Correlation matrix\n",
        "df[[\"Heart Disease Status\", \"Blood Pressure\", \"Cholesterol Level\", \"BMI\", \"Age\",]].corr()"
      ],
      "metadata": {
        "id": "zIWEu1DI9DZi"
      },
      "id": "zIWEu1DI9DZi",
      "execution_count": null,
      "outputs": []
    },
    {
      "cell_type": "code",
      "source": [
        "# Plotting the correlation matrix\n",
        "\n",
        "corr = df[[\"Heart Disease Status\", \"Blood Pressure\", \"Cholesterol Level\", \"BMI\", \"Age\"]].corr()\n",
        "plt.figure(figsize=(8, 6))\n",
        "sns.heatmap(corr, annot=True, cmap='coolwarm', linewidths=0.5)\n",
        "plt.title(\"Correlation Plot\")\n",
        "plt.show()"
      ],
      "metadata": {
        "id": "UdhqOYI7-QtE"
      },
      "id": "UdhqOYI7-QtE",
      "execution_count": null,
      "outputs": []
    },
    {
      "cell_type": "markdown",
      "id": "89da9db5-58be-44f1-bef1-8f05f879e422",
      "metadata": {
        "id": "89da9db5-58be-44f1-bef1-8f05f879e422"
      },
      "source": [
        "##**Identify Relevant Columns**"
      ]
    },
    {
      "cell_type": "code",
      "source": [],
      "metadata": {
        "id": "6dxslPjt_rln"
      },
      "id": "6dxslPjt_rln",
      "execution_count": null,
      "outputs": []
    },
    {
      "cell_type": "markdown",
      "id": "187c02ef-a0e5-4fd2-9572-6eef0f718e07",
      "metadata": {
        "id": "187c02ef-a0e5-4fd2-9572-6eef0f718e07"
      },
      "source": [
        "##**Decide on Most Appropriate Machine Learning Model**"
      ]
    },
    {
      "cell_type": "markdown",
      "source": [],
      "metadata": {
        "id": "Amw01sVo_1yC"
      },
      "id": "Amw01sVo_1yC"
    },
    {
      "cell_type": "markdown",
      "id": "0f30d9c4-29b8-4bb2-b00f-152aee846dc1",
      "metadata": {
        "id": "0f30d9c4-29b8-4bb2-b00f-152aee846dc1"
      },
      "source": [
        "##**Test & Train Model**"
      ]
    },
    {
      "cell_type": "code",
      "source": [],
      "metadata": {
        "id": "aaF1pLBn_7Ux"
      },
      "id": "aaF1pLBn_7Ux",
      "execution_count": null,
      "outputs": []
    },
    {
      "cell_type": "markdown",
      "id": "034fd789-f171-45d2-80ff-1dbfe384929c",
      "metadata": {
        "jp-MarkdownHeadingCollapsed": true,
        "id": "034fd789-f171-45d2-80ff-1dbfe384929c"
      },
      "source": [
        "##**Evaluate Model Performance**"
      ]
    },
    {
      "cell_type": "code",
      "source": [],
      "metadata": {
        "id": "HvUSQvYi__OU"
      },
      "id": "HvUSQvYi__OU",
      "execution_count": null,
      "outputs": []
    },
    {
      "cell_type": "markdown",
      "id": "58ebed86-142e-4c49-8b59-5f137c9aa7ca",
      "metadata": {
        "id": "58ebed86-142e-4c49-8b59-5f137c9aa7ca"
      },
      "source": [
        "##**Report Model Performance**"
      ]
    },
    {
      "cell_type": "code",
      "execution_count": null,
      "id": "31a492a3-48b8-4366-b22a-9594f7b2fd87",
      "metadata": {
        "id": "31a492a3-48b8-4366-b22a-9594f7b2fd87"
      },
      "outputs": [],
      "source": []
    }
  ],
  "metadata": {
    "kernelspec": {
      "display_name": "Python 3 (ipykernel)",
      "language": "python",
      "name": "python3"
    },
    "language_info": {
      "codemirror_mode": {
        "name": "ipython",
        "version": 3
      },
      "file_extension": ".py",
      "mimetype": "text/x-python",
      "name": "python",
      "nbconvert_exporter": "python",
      "pygments_lexer": "ipython3",
      "version": "3.13.0"
    },
    "colab": {
      "provenance": [],
      "collapsed_sections": [
        "fc61d5eb-823b-4906-8a78-3fc78739d156",
        "f2b7057d-8f79-4b24-88ed-3115290eb64d",
        "89da9db5-58be-44f1-bef1-8f05f879e422",
        "187c02ef-a0e5-4fd2-9572-6eef0f718e07",
        "0f30d9c4-29b8-4bb2-b00f-152aee846dc1",
        "034fd789-f171-45d2-80ff-1dbfe384929c",
        "58ebed86-142e-4c49-8b59-5f137c9aa7ca"
      ],
      "include_colab_link": true
    }
  },
  "nbformat": 4,
  "nbformat_minor": 5
}